{
  "nbformat": 4,
  "nbformat_minor": 0,
  "metadata": {
    "colab": {
      "provenance": [],
      "collapsed_sections": [
        "Ae2sbEAzQdQ0",
        "B3ivopM5RR-w",
        "iniFQHhE7_Y0",
        "kwjHXiu0ZHpd",
        "FyjitYrqb_Mu",
        "El7ZJa4p9xaw",
        "beU3vq0Q_zih",
        "Ci6WqowxBU0w",
        "V6jy-QiNDLEf",
        "eHreE-cZaKQ7",
        "HnnOSXslR4BI",
        "PZTo5ZH1TFN7",
        "RzkKyc0Xx24D",
        "-kzAUxYWwiIJ",
        "fw68LcoeGb-J",
        "NZRJIeT4VXed"
      ]
    },
    "kernelspec": {
      "name": "python3",
      "display_name": "Python 3"
    },
    "language_info": {
      "name": "python"
    }
  },
  "cells": [
    {
      "cell_type": "markdown",
      "source": [
        "# **A. Identifier**\n",
        "\n",
        "Indentifier adalah nama yang mewakili sebuah objek/fungsi/data dengan aturan penulisan sebagai berikut:\n",
        "\n",
        "- diawali dengan huruf A-Z atau a-z atau underscore (_)\n",
        "> contoh: **A**ddress, **PHI**, **M**ahasiswa, **u**sername, **a**ge, **_**password, **__**NIK\n",
        "\n",
        "\n",
        "- diikuti huruf, underscore, dan digit (0-9)\n",
        "> contoh: player**11**, ______init**______**,\n",
        "\n"
      ],
      "metadata": {
        "id": "Ae2sbEAzQdQ0"
      }
    },
    {
      "cell_type": "code",
      "execution_count": null,
      "metadata": {
        "colab": {
          "base_uri": "https://localhost:8080/"
        },
        "id": "oybFg2NGQV1d",
        "outputId": "ca96bd0c-6e55-4d6c-fa09-4b632157d117"
      },
      "outputs": [
        {
          "output_type": "stream",
          "name": "stdout",
          "text": [
            "12\n"
          ]
        }
      ],
      "source": [
        "# menyimpan nilai (sbg variabel)\n",
        "PHI = 3.1415\n",
        "orang2_ = \"budi\"\n",
        "Age = 12\n",
        "_status = \"jomblo\"\n",
        "__NIK = 7308073721710001\n",
        "\n",
        "\n",
        "print(__NIK) # ubah '__NIK' dengan identifier apa saja untuk meluhat hasilnya"
      ]
    },
    {
      "cell_type": "markdown",
      "source": [
        "<font color=\"yellow\">\n",
        "PENTING!!\n",
        "\n",
        "Materi tentang **class**, **def (function)**, dan **import** berikut belum dibahas 👇👇👇 (hanya gambaran penggunaan identifier)"
      ],
      "metadata": {
        "id": "HlLYU6d93cHI"
      }
    },
    {
      "cell_type": "code",
      "source": [
        "# penggunaan identifier dalam mengimport library `mt`\n",
        "import math as mt # 'mt' adalah identifier untuk library 'math'\n",
        "\n",
        "\n",
        "# penggunaan identifier untuk menyimpan function `func_tambahkan`\n",
        "def funct_tambahkan(a,b):\n",
        "  return a+b\n",
        "\n",
        "\n",
        "# identifier berbeda dapat merujuk ke objek yang sama `func_tambahkan` dan `jumlah` adalah sama\n",
        "jumlah = funct_tambahkan # funct_tambah sekarang bisa dipanggil dengan identifier 'jumlah'\n",
        "\n",
        "funct_tambahkan(5,5) # line 20 dan 21 code ini sama sama menghasilkan 10\n",
        "jumlah(5,5) # sama saja dengan yang diatas\n",
        "\n",
        "\n",
        "# penggunaan menyimpan class `Mahasiswa`\n",
        "class Mahasiswa:\n",
        "  nama = \"Ichsan Takwa\"\n",
        "  NIM = \"H071201058\"\n",
        "  prodi = \"Sistem Informasi\"\n",
        "  angkatan = 2020\n",
        "  def deskripsi(self):\n",
        "    print(self.nama,self.NIM,self.prodi,self.angkatan)\n",
        "\n",
        "Mhs = Mahasiswa # class 'Mahasiswa' sekarang dapat dipanggil dengan 'Mhs'\n",
        "Mhs();  Mahasiswa() # adalah class yang sama\n",
        "\n",
        "# menyimpan objek\n",
        "ichsan = Mhs() # ichsan adalah identifier yang menyimpan objek/instance dari class Mahasiswa\n",
        "\n",
        "print(ichsan.deskripsi()) # ubah '__NIK' dengan identifier apa saja untuk melihat hasilnya"
      ],
      "metadata": {
        "colab": {
          "base_uri": "https://localhost:8080/"
        },
        "id": "e50cOiLh3TBE",
        "outputId": "c964e161-0b3b-4bf8-972c-43755a36ac05"
      },
      "execution_count": null,
      "outputs": [
        {
          "output_type": "stream",
          "name": "stdout",
          "text": [
            "Ichsan Takwa H071201058 Sistem Informasi 2020\n",
            "None\n"
          ]
        }
      ]
    },
    {
      "cell_type": "markdown",
      "source": [
        "<font color=\"yellow\" size=4>\n",
        "Note: Jika kamu sulit dalam memahami materi diatas, coba lagi setelah mempelajari materi class, function, dan import"
      ],
      "metadata": {
        "id": "7-9csfDqpabV"
      }
    },
    {
      "cell_type": "markdown",
      "source": [
        "## Latihan\n",
        "Lengkapi kode berikut berdasarkan apa yang telah kamu pelajari sebelumnya.\n",
        "\n",
        "\n",
        "Ingat!!! dalam menentukan identifier tidak terpaku pada nama tertentu, tiap programmer bisa saja memberikan identifier yang berbeda\n",
        "\n",
        "contoh:\n",
        "\n",
        "> import pandas as **pd**\n",
        "\n",
        "> import pandas as **ps**\n",
        "\n",
        "> import pandas as **pds**"
      ],
      "metadata": {
        "id": "oeDoTwY6kyXF"
      }
    },
    {
      "cell_type": "code",
      "source": [
        "# berikan identifier untuk library berikut\n",
        "import math as ...\n",
        "import matplotlib.pyplot as ...\n",
        "import pandas as ..."
      ],
      "metadata": {
        "id": "pjulVFgyo4SK"
      },
      "execution_count": null,
      "outputs": []
    },
    {
      "cell_type": "code",
      "source": [
        "# berikan identifier untuk variabel berikut\n",
        "... = \"John Cena\"\n",
        "... = \"Jl. Hang Lekiu No.2, Sambau, Kecamatan Nongsa, Kota Batam, Kepulauan Riau 29465\"\n",
        "... = 34"
      ],
      "metadata": {
        "id": "JuFPlnclrWgL"
      },
      "execution_count": null,
      "outputs": []
    },
    {
      "cell_type": "code",
      "source": [
        "# berikan identifier untuk fungsi berikut\n",
        "def ...(a,b):\n",
        "  return a+b # menjumlahkan a dan b\n",
        "\n",
        "def ...(a,b):\n",
        "  return a-b # mengurangkan a dan b\n",
        "\n",
        "def ...(a,b):\n",
        "  return a*b # mengalikan a dan b"
      ],
      "metadata": {
        "id": "P5Rbhp3qo4EJ"
      },
      "execution_count": null,
      "outputs": []
    },
    {
      "cell_type": "code",
      "source": [
        "# berikan identifier (Animal, Human, Car) untuk class berikut\n",
        "class ...:\n",
        "  def __init__(this):\n",
        "    print(\"class Animal telah dibuat\")\n",
        "\n",
        "class ...:\n",
        "  def __init__(this):\n",
        "    print(\"class Human telah dibuat\")\n",
        "\n",
        "class ...:\n",
        "  def __init__(this):\n",
        "    print(\"class Car telah dibuat\")\n",
        "\n",
        "\n",
        "\n",
        "Animal()\n",
        "Human()\n",
        "Car()"
      ],
      "metadata": {
        "colab": {
          "base_uri": "https://localhost:8080/"
        },
        "id": "hYIS7n0xo3ri",
        "outputId": "8d7780dc-fb2f-4eeb-9465-59949dff3a2b"
      },
      "execution_count": null,
      "outputs": [
        {
          "output_type": "stream",
          "name": "stdout",
          "text": [
            "class Car telah dibuat\n"
          ]
        },
        {
          "output_type": "execute_result",
          "data": {
            "text/plain": [
              "<__main__.Car at 0x7dd16516a2f0>"
            ]
          },
          "metadata": {},
          "execution_count": 7
        }
      ]
    },
    {
      "cell_type": "markdown",
      "source": [
        "# **B. Keyword**\n",
        "kata-kata khusus yang memiliki arti dan tujuan tertentu dan tidak dapat digunakan untuk apa pun selain tujuan khusus tersebut\n"
      ],
      "metadata": {
        "id": "B3ivopM5RR-w"
      }
    },
    {
      "cell_type": "code",
      "source": [
        "if      # kondisi\n",
        "else    # kondisi (jika tidak terpenuhi)\n",
        "for     # perulangan\n",
        "in      # keanggotaan\n",
        "is      # operator logika (adalah)\n",
        "not     # operator negasi (kebalikan)\n",
        "True    # boolean (bernilai benar)\n",
        "False   # boolean (bernilai salah)\n",
        "pass    # placeholder (mengosongkan suatu blok yang nantinya akan diisi)\n",
        "raise   # menimbulkan pesan error\n",
        "while   # perulangan\n",
        "try     # menguji blok kode\n",
        "lambda  # fungsi anonim\n",
        "# dsb...\n",
        "\n",
        "# keyword diatas tidak dapat digunakan sebagai identifier / variabel"
      ],
      "metadata": {
        "id": "lg46eCpARckB"
      },
      "execution_count": null,
      "outputs": []
    },
    {
      "cell_type": "markdown",
      "source": [
        "# **C. Comment**\n",
        "\n",
        "* comment di python menggunakan simbol ' # ' kalimat di sebelah kanan simbol tsb merupakan bagian dari comment.\n",
        "* comment berfungsi untuk memudahkan programmer memberi penjelasan pada program.\n",
        "* pada saat program dijalankan comment tidak akan dibaca oleh sistem."
      ],
      "metadata": {
        "id": "iniFQHhE7_Y0"
      }
    },
    {
      "cell_type": "code",
      "source": [
        "# print(\"ini adalah comment\")\n",
        "# print(\"ini adalah comment\")\n",
        "# print(\"ini adalah comment\")\n",
        "# print(\"ini adalah comment\")\n",
        "\n",
        "print(\"ini bukan comment\")\n",
        "\n",
        "# print(\"ini adalah comment\")\n",
        "# print(\"ini adalah comment\")"
      ],
      "metadata": {
        "colab": {
          "base_uri": "https://localhost:8080/"
        },
        "id": "QwwMdnLz5Ykt",
        "outputId": "9c337ce0-5d46-480d-e208-596bf0cadbfa"
      },
      "execution_count": null,
      "outputs": [
        {
          "output_type": "stream",
          "name": "stdout",
          "text": [
            "ini bukan comment\n"
          ]
        }
      ]
    },
    {
      "cell_type": "code",
      "source": [
        "# fungsi berikut menerima parameter berupa String\n",
        "def sayHello(name):\n",
        "  print(f\"hello {name}\")"
      ],
      "metadata": {
        "id": "IMp9WpDH8uUz"
      },
      "execution_count": null,
      "outputs": []
    },
    {
      "cell_type": "markdown",
      "source": [
        "## Latihan\n",
        "Ubah baris berikut menjadi comment pada bagian yang seharusnya menjadi comment"
      ],
      "metadata": {
        "id": "nZhK_3-B7ySt"
      }
    },
    {
      "cell_type": "code",
      "source": [
        "# berikut ini adalah data diri pengguna\n",
        "name = \"Ichsan\"\n",
        "address = \"Jl. Hang Lekiu No.2, Sambau, Kecamatan Nongsa, Kota Batam, Kepulauan Riau 29465\"\n",
        "\n",
        "\n",
        "# berikut ini merupakan fungsi untuk menjumlahkan nilai \"a\" dan \"b\"\n",
        "def add(a,b):\n",
        "  return a+b"
      ],
      "metadata": {
        "id": "OddToiHY8Kq9"
      },
      "execution_count": null,
      "outputs": []
    },
    {
      "cell_type": "markdown",
      "source": [
        "# **D. Variabel**\n",
        "Variabel adalah nama yang mewakili sebuah data\n",
        "Sebuah variabel dapat memiliki nama pendek (seperti x dan y) atau nama yang lebih deskriptif. Aturan untuk variabel Python:\n",
        "\n",
        "\n",
        "*   Nama variabel harus dimulai dengan huruf atau karakter garis bawah\n",
        "*   Nama variabel tidak boleh diawali dengan angka\n",
        "\n",
        "*   Nama variabel hanya boleh berisi karakter alfanumerik dan garis bawah (A-z, 0-9, dan (_)\n",
        "*   Nama variabel sensitif huruf besar/kecil (**usia**, **Usia**, dan **USIA** adalah tiga variabel berbeda)\n",
        "\n",
        "\n",
        "\n"
      ],
      "metadata": {
        "id": "kwjHXiu0ZHpd"
      }
    },
    {
      "cell_type": "code",
      "source": [
        "# contoh variabel yang benar\n",
        "NAMA = \"Ichsan Takwa\"\n",
        "No_hp = \"+6285_______\"\n",
        "Alamat = \"Jl. Hang Lekiu No.2 _____________\"\n",
        "jenisKelamin = \"laki laki\"\n",
        "_status = \"belum menikah\"\n",
        "__NIK = 73080_________\n",
        "hobi1 = \"Coding\"\n",
        "hobi_2 = \"Futsal\""
      ],
      "metadata": {
        "id": "Rud7jCaGZitt"
      },
      "execution_count": null,
      "outputs": []
    },
    {
      "cell_type": "markdown",
      "source": [
        "## Latihan\n",
        "buat data diri kamu seperti contoh diatas"
      ],
      "metadata": {
        "id": "3TGNh9-b9sNn"
      }
    },
    {
      "cell_type": "code",
      "source": [
        "#nama\n",
        "\n",
        "#no_HP\n",
        "\n",
        "#alamat\n",
        "\n",
        "#jenis kelamin\n",
        "\n",
        "#status\n",
        "\n",
        "#hobi\n"
      ],
      "metadata": {
        "id": "jDJxHTtR9r1w"
      },
      "execution_count": null,
      "outputs": []
    },
    {
      "cell_type": "markdown",
      "source": [
        "## **Cara Penggunaan Google Colab !!**\n",
        "\n",
        "**klik tanda 🔽 untuk expand program**\n",
        "> contoh: 🔽 A. Identifier\n",
        "\n",
        "**cara menjalankan program:**\n",
        "* klik  icon ▶️ di bagian sudut kiri atas\n",
        "* Ketik Cmd/Ctrl+Enter untuk menjalankan sel di tempatnya;\n",
        "* Ketik Shift+Enter untuk menjalankan sel dan memindahkan fokus ke sel berikutnya (menambahkan satu jika tidak ada);\n",
        "* Ketik Alt+Enter untuk menjalankan sel dan menyisipkan sel kode baru tepat di bawahnya.\n",
        "* note : biasanya running pertama kali agak lama\n",
        "\n",
        "\n",
        "\n",
        "<font color=\"yellow\" size=4>\n",
        "Silahkan pelajari programnya, BOLEH diubah-ubah isinya. Tidak akan berpengaruh ke file asli, reload page untuk mengembalikan file semula.\n",
        "\n",
        "\n"
      ],
      "metadata": {
        "id": "XLuwe50uyO4G"
      }
    },
    {
      "cell_type": "markdown",
      "source": [
        "# **E. Data Types**\n",
        "Variabel adalah nama yang didefinisikan untuk menampung data dengan  tipe data tertentu. Data pada variabel dapat diganti dengan data lain. Berikut tipe data pada python:\n"
      ],
      "metadata": {
        "id": "FyjitYrqb_Mu"
      }
    },
    {
      "cell_type": "markdown",
      "source": [
        "\n",
        "| Tipe Data        | simbol |   Jenis    | Deskripsi  |\n",
        "| ---------------- | ------ | ---------- | ---------- |\n",
        "| string (str)     |   \"\"   | Teks       | data dapat berupa teks/kalimat/paragraf yang di apit dengan tanda petik satu '' atau petik dua \" \", seperti 'sayuran' atau \"buah buahan\" |\n",
        "| integer (int)    |        | Numerik    | data berupa bilangan bulat (tidak ada angka di belakang koma), seperti 2 100 870 8723847  |\n",
        "| float            |   .    | Numerik    | data berupa bilangan desimal (memiliki angka di belakang koma) , seperti 3.14 2.71828 99.7 8723847.181 |\n",
        "| complex          |  j y   | Numerik    | data berupa bilangan kompleks seperti 200j |\n",
        "| list             |   []   | Rentetan   | berisi rentetan data (dapat berupa tipe data apa saja) yang diapit oleh tanda kurung siku [ ] dan elemennya dipisah danda koma ',' , seperti [\"apel\", \"nasi\"] |\n",
        "| tuple            |   ()   | Rentetan   | berisi rentetan data (dapat berupa tipe data apa saja) yang diapit oleh tanda kurung ( ) dan elemennya dipisah danda koma ',', namun elemennya tidak dapat diubah, seperti (\"apel\", \"nasi\") |\n",
        "| dictionary (dict)|   {:}  | Rentetan   | berisi data yang tiap datanya diwakili oleh \"key\" untuk mengakses data tersebut, elemen nya diapit tanda kurung kurawal {}, seperti {\"nama\":\"Ichsan\", \"kota asal\": \"Makassar\", \"kampus\" : \"Universitas Hasanuddin\"} |  \n",
        "| range            | range()| Rentetan   | berisi rentetan yang berurutan dari kecil ke besar atau besar ke kecil dengan rentang tertentu, seperti (1,2,3,4,5,6,7) |          \n",
        "| Boolean (bool)   |        | Boolean    | hanya memiliki dua nilai yang merepresentasikan Benar (True) atau Salah (False)  |            \n",
        "| bytes            |        | Biner      |            |            \n",
        "| bytesarray       |        | Biner      |            |            \n",
        "| memoryview       |        | Biner      |            |            \n",
        "| NoneType         |        | Tak bernilai| untuk merepresentasikan nilai yang tidak ada |           \n",
        "\n",
        "\n",
        "\n",
        "\n",
        "Ingat... koma secara internasional menggunakan simbol titik\n",
        "\n",
        "3.14 adalah 3,14"
      ],
      "metadata": {
        "id": "eqGNS07hsjYQ"
      }
    },
    {
      "cell_type": "code",
      "source": [
        "str1 = \"Thanos S.Pd.\" # string\n",
        "str2 = 'Hulk S.Ked.' # string\n",
        "\n",
        "int1 = 20    # int\n",
        "int2 = -102  # int\n",
        "\n",
        "flt1 = 3.14  # float\n",
        "flt2 = 2.71  # float\n",
        "\n",
        "bool1 = True # boolean\n",
        "bool2 = False # boolean\n",
        "\n",
        "cpx1 = 2j  # complex\n",
        "\n",
        "# byt = bytes(10) # bytes\n",
        "# bytarr = bytearray(10) # bytearray\n",
        "# memvw = memoryview(bytes(10)) # memoryview\n",
        "\n",
        "hewan = ['kuda' ,'sapi', 'kucing','rakun'] # list\n",
        "\n",
        "days = ( \"Monday\", \"Tuesday\", \"Wednesday\", \"Thursday\", \"Friday\", \"Saturday\", \"Sunday\") #tuple\n",
        "\n",
        "nol_sampai_sepuluh = range(10) # range\n",
        "\n",
        "user = {'nama' : 'thoriq', 'usia': 20} #dict\n",
        "\n",
        "member = {'tobi','tono','thoriq'} # set\n",
        "\n",
        "frst = frozenset({'tobi','tono','thoriq'}) # frozenset\n",
        "\n",
        "none = None # NoneType\n",
        "\n",
        "print( int1, flt1) # ubah 'int1, flt1' dengan variabel apa saja diatas untuk melihat hasilnya\n"
      ],
      "metadata": {
        "colab": {
          "base_uri": "https://localhost:8080/"
        },
        "id": "oLRi7Ht6c6he",
        "outputId": "09cf4890-1d07-4088-9677-36a9dcde09c3"
      },
      "execution_count": null,
      "outputs": [
        {
          "output_type": "stream",
          "name": "stdout",
          "text": [
            "20 3.14\n"
          ]
        }
      ]
    },
    {
      "cell_type": "markdown",
      "source": [
        "## Latihan\n",
        "lengkapi kode berikut sesuai tipedata yang diminta"
      ],
      "metadata": {
        "id": "bv8DViO9bJ35"
      }
    },
    {
      "cell_type": "markdown",
      "source": [
        "## Tipe data rentetan/koleksi\n",
        "Tipe data koleksi adalah jenis tipe data yang dapat menampung banyak data dalam satu variabel, berikut perbedaan list, tupple, dan set:\n",
        "\n",
        "![image.png](data:image/png;base64,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)"
      ],
      "metadata": {
        "id": "FGkcgyyl7APf"
      }
    },
    {
      "cell_type": "markdown",
      "source": [
        "#### Latihan\n",
        "Lengkapi kode berikut berdasarkan instruksi yang diminta"
      ],
      "metadata": {
        "id": "beU3vq0Q_zih"
      }
    },
    {
      "cell_type": "code",
      "source": [
        "nama = ...\n",
        "usia = ...\n",
        "berat_badan = ...  # berikan angka dibelakang koma .\n",
        "film_favorit = ... # berupa list\n",
        "sudah_menikah = ... # benar/salah\n"
      ],
      "metadata": {
        "id": "7sKVlhyIbS_G"
      },
      "execution_count": null,
      "outputs": []
    },
    {
      "cell_type": "markdown",
      "source": [
        "### List\n",
        "list adalah tipe data rentetan/koleksi dalam python yang dapat diubah isinya, terurut, dan dapat diakses."
      ],
      "metadata": {
        "id": "El7ZJa4p9xaw"
      }
    },
    {
      "cell_type": "code",
      "source": [
        "# membuat list\n",
        "buah = [\"apel\", \"nangka\", \"pepaya\", \"avocado\"]\n",
        "#indeks  0        1          2          3\n",
        "\n",
        "#mengakses isi list berdasarkan indeksnya\n",
        "print(\"index ke 1 adalah \", buah[1] )\n",
        "\n",
        "#mengakses dengan slicing\n",
        "print(\"index 0 dan 1 buah, \", buah[0:2] ) # item indeks ke 2 tidak di sertakan (hanya 0 dan 1)\n",
        "print(\"index 1 dan 2 buah, \", buah[1:3] ) # item indeks ke 3 tidak di sertakan (hanya 1 dan 2)\n",
        "\n",
        "#mengganti isi list\n",
        "buah[2] = \"kedondong\"\n",
        "\n",
        "#mengakses semua isi buah\n",
        "print(\"semua isi buah\", buah)"
      ],
      "metadata": {
        "colab": {
          "base_uri": "https://localhost:8080/"
        },
        "id": "TKiW8_ov9_fh",
        "outputId": "dc6633d2-ba57-41a3-eb86-d6727e0bd0e1"
      },
      "execution_count": null,
      "outputs": [
        {
          "output_type": "stream",
          "name": "stdout",
          "text": [
            "nangka\n",
            "index 0 dan 1 buah,  ['apel', 'nangka']\n",
            "index 1 dan 2 buah,  ['nangka', 'pepaya']\n",
            "semua isi buah ['apel', 'nangka', 'kedondong', 'avocado']\n"
          ]
        }
      ]
    },
    {
      "cell_type": "code",
      "source": [
        "# membuat list\n",
        "makanan = [\"bubur ayam\", \"nasi padang\", \"ikan goreng\", \"sop ayam\"]\n",
        "#indeks  0        1          2              3               4\n",
        "\n",
        "# TODO : cetak data indeks ke 2 makanan\n",
        "print(\"index ke 2 adalah \", ... )\n",
        "\n",
        "# TODO : cetak data indeks ke 1 sampai 3 makanan\n",
        "print(\"index 1 sampai 3 makanan, \", ... )\n",
        "\n",
        "# TODO : mengganti isi list index ke 4 menjadi \"sop ikan\"\n",
        "makanan[...] = ...\n",
        "\n",
        "# mengakses semua isi makanan\n",
        "print(\"semua isi buah\", makanan)"
      ],
      "metadata": {
        "id": "MSTUWjI2_4kG"
      },
      "execution_count": null,
      "outputs": []
    },
    {
      "cell_type": "markdown",
      "source": [
        "### Tuple\n",
        "\n",
        "Tuple adalah tipe data rentetan/koleksi dalam python yang terurut, dan dapat diakses, namun tidak dapat diubah isinya."
      ],
      "metadata": {
        "id": "Ci6WqowxBU0w"
      }
    },
    {
      "cell_type": "code",
      "source": [
        "# membuat tuple\n",
        "hari = (\"senin\", \"selasa\", \"rabu\", \"kamis\", \"jumat\", \"sabtu\", \"minggu\")\n",
        "#indeks    0        1        2        3        4        5        6\n",
        "\n",
        "#mengakses isi list berdasarkan indeksnya\n",
        "print(\"index ke 1 adalah \", hari[1] )\n",
        "\n",
        "#mengakses dengan slicing\n",
        "print(\"index 0 dan 1 hari, \", hari[0:2] ) # item indeks ke 2 tidak di sertakan (hanya 0 dan 1)\n",
        "print(\"index 1 dan 2 hari, \", hari[1:3] ) # item indeks ke 3 tidak di sertakan (hanya 1 dan 2)\n",
        "\n",
        "#mengganti isi list\n",
        "# hari[2] = \"kedondong\" # isi tuple tidak dapat diubah\n",
        "\n",
        "#mengakses semua isi buah\n",
        "print(\"semua isi hari\", hari)"
      ],
      "metadata": {
        "colab": {
          "base_uri": "https://localhost:8080/"
        },
        "id": "Px-lIaJqBo-j",
        "outputId": "13fac876-539e-4e43-a9a5-bb7d03992523"
      },
      "execution_count": null,
      "outputs": [
        {
          "output_type": "stream",
          "name": "stdout",
          "text": [
            "selasa\n",
            "index 0 dan 1 hari,  ('senin', 'selasa')\n",
            "index 1 dan 2 hari,  ('selasa', 'rabu')\n",
            "semua isi hari ('senin', 'selasa', 'rabu', 'kamis', 'jumat', 'sabtu', 'minggu')\n"
          ]
        }
      ]
    },
    {
      "cell_type": "markdown",
      "source": [
        "### Set\n",
        "Set adalah tipedata dalam python yang isinya dapat diubah namun tidak dapat diakses pada indeks tertentu, set juga tidak dapat menyimpan data yang sama"
      ],
      "metadata": {
        "id": "V6jy-QiNDLEf"
      }
    },
    {
      "cell_type": "code",
      "source": [
        "#membuat set\n",
        "penerima_bansos = {\"bambang\", \"joko\", \"mamat\", \"tegar\", \"bambang\"}\n",
        "\n",
        "print(penerima_bansos)"
      ],
      "metadata": {
        "colab": {
          "base_uri": "https://localhost:8080/"
        },
        "id": "-RPqr7oqFqtK",
        "outputId": "0df106c1-b65a-464c-aa13-95a540c2413d"
      },
      "execution_count": null,
      "outputs": [
        {
          "output_type": "stream",
          "name": "stdout",
          "text": [
            "{'mamat', 'tegar', 'joko', 'bambang'}\n"
          ]
        }
      ]
    },
    {
      "cell_type": "markdown",
      "source": [
        "#### Latihan\n",
        "Lengkapi kode berikut berdasarkan instruksi yang diminta"
      ],
      "metadata": {
        "id": "3YLBUYPgC71B"
      }
    },
    {
      "cell_type": "markdown",
      "source": [
        "# **F.\t Operators**\n",
        "Operator pada Pemrograman Python dapat disimbolkan dengan tanda atau karakter seperti +, -, *, /, **, % dan sebagainya"
      ],
      "metadata": {
        "id": "eHreE-cZaKQ7"
      }
    },
    {
      "cell_type": "markdown",
      "source": [
        "**Operator Aritmatika**\n",
        "\n",
        "* ' + '\tPenjumlahan\n",
        "* ' - '\tPengurangan\n",
        "* ' * '\tPerkalian\n",
        "* ' / '\tPembagian\n",
        "* ' // '\tPembagian (dibulatkan kebawah)\n",
        "* ' % '\tSisa Bagi / Modulo\n"
      ],
      "metadata": {
        "id": "6TLhOlW-agHP"
      }
    },
    {
      "cell_type": "code",
      "source": [
        "a = 10\n",
        "b = 6\n",
        "\n",
        "jumlah = a + b\n",
        "kurang = a - b\n",
        "bagi = a / b\n",
        "bagi_pembulatan = a // b\n",
        "kali = a * b\n",
        "modulo = b % a\n",
        "\n",
        "# print nilai variabel-variabel diatas\n",
        "print( 100*0.2 ) # 100 x 0.2 = 20.0; tipedata: foat"
      ],
      "metadata": {
        "colab": {
          "base_uri": "https://localhost:8080/"
        },
        "id": "Ts_aTohNaS_-",
        "outputId": "b23d7bb9-4ecf-47c4-9adf-a10d8564fada"
      },
      "execution_count": null,
      "outputs": [
        {
          "output_type": "stream",
          "name": "stdout",
          "text": [
            "20.0\n"
          ]
        }
      ]
    },
    {
      "cell_type": "markdown",
      "source": [
        "**Operator Pembanding**\n",
        "\n",
        "* ' > '\tLebih Besar\n",
        "* ' < '\tLebih Kecil\n",
        "* ' == '\tSama Dengan\n",
        "* ' != '\tTidak Sama dengan\n",
        "* ' >= '\tBesar Sama dengan\n",
        "* ' <= '\tLebih Kecil Sama dengan\n"
      ],
      "metadata": {
        "id": "WCyv9ltGbPMH"
      }
    },
    {
      "cell_type": "code",
      "source": [
        "print( 100 > 120) # False (salah); typedata : bool/boolean"
      ],
      "metadata": {
        "colab": {
          "base_uri": "https://localhost:8080/"
        },
        "id": "x_RdasIkbfjI",
        "outputId": "8d664583-f349-4f45-df7a-8897f419dbc7"
      },
      "execution_count": null,
      "outputs": [
        {
          "output_type": "stream",
          "name": "stdout",
          "text": [
            "False\n"
          ]
        }
      ]
    },
    {
      "cell_type": "markdown",
      "source": [
        "**Operator Penugasan**\n",
        "\n",
        "* ' = '\tAssignment\n",
        "* ' += '\tPenjumlahan\n",
        "* ' -= '\tPengurangan\n",
        "* ' *= '\tPerkalian\n",
        "* ' /= '\tPembagian\n",
        "* ' //= '\tPembagian (dibulatkan kebawah)\n",
        "* ' %= '\tSisa Bagi / Modulo\n"
      ],
      "metadata": {
        "id": "TJnufh0KiMJK"
      }
    },
    {
      "cell_type": "code",
      "source": [
        "a = 12\n",
        "a /= 3\n",
        "print(a)"
      ],
      "metadata": {
        "colab": {
          "base_uri": "https://localhost:8080/"
        },
        "id": "dXtBP1_3ih_a",
        "outputId": "ce5a6f18-bff2-454c-b02e-1b68fac9c2bd"
      },
      "execution_count": null,
      "outputs": [
        {
          "output_type": "stream",
          "name": "stdout",
          "text": [
            "4.0\n"
          ]
        }
      ]
    },
    {
      "cell_type": "markdown",
      "source": [
        "**Operator Logical**\n",
        "\n",
        "* ' and '\tdan\n",
        "* ' or '\tatau\n",
        "* ' not '\tingkaran/negasi\n"
      ],
      "metadata": {
        "id": "66Y8PfX0inky"
      }
    },
    {
      "cell_type": "code",
      "source": [
        "a = 12 > 10\n",
        "b = 2 == 2\n",
        "\n",
        "x = a and b\n",
        "\n",
        "print(' a:',a,'\\n b:', b, '\\n a and b:',x) # \\n = baris baru"
      ],
      "metadata": {
        "colab": {
          "base_uri": "https://localhost:8080/"
        },
        "id": "0RdffHuaimw1",
        "outputId": "be0c809b-c6e5-4664-c3a3-29c3aae4dd40"
      },
      "execution_count": null,
      "outputs": [
        {
          "output_type": "stream",
          "name": "stdout",
          "text": [
            " a: True \n",
            " b: True \n",
            " a and b: True\n"
          ]
        }
      ]
    },
    {
      "cell_type": "code",
      "source": [
        "a = 12 > 10\n",
        "b = 2 == 2\n",
        "\n",
        "x = a and b\n",
        "y = not x\n",
        "print(' a:',a,'\\n b:', b, '\\n a and b:',x, '\\n not x:',y) # \\n = baris baru"
      ],
      "metadata": {
        "colab": {
          "base_uri": "https://localhost:8080/"
        },
        "id": "_ndPv7mXi9ug",
        "outputId": "f24281bb-d2a3-46b3-ae42-29dc94b66601"
      },
      "execution_count": null,
      "outputs": [
        {
          "output_type": "stream",
          "name": "stdout",
          "text": [
            " a: True \n",
            " b: True \n",
            " a and b: True \n",
            " not x: False\n"
          ]
        }
      ]
    },
    {
      "cell_type": "markdown",
      "source": [
        "**Operator Keanggotaan**\n",
        "\n",
        "* ' in '\tMenghasilkan nilai TRUE jika nilai yang ditentukan berada dalam objek tertentu\n",
        "* ' not in '\tMenghasilkan nilai TRUE jika nilai yang ditentukan tidak ada dalam objek tertentu\n"
      ],
      "metadata": {
        "id": "cOZwYVhrid22"
      }
    },
    {
      "cell_type": "code",
      "source": [
        "hewan = [\"kuda\", \"kucing\",\"sapi\",'rakun']\n",
        "x = 'sapi' in hewan # dibaca : apakah sapi ada di dalam list hewan? (ada = True)\n",
        "\n",
        "print(\"apakah terdapat 'sapi' di ls?\", x)"
      ],
      "metadata": {
        "colab": {
          "base_uri": "https://localhost:8080/"
        },
        "id": "DvOB-sN9jkfM",
        "outputId": "3877447e-a5aa-43e8-8e8d-94401210864c"
      },
      "execution_count": null,
      "outputs": [
        {
          "output_type": "stream",
          "name": "stdout",
          "text": [
            "apakah terdapat 'sapi' di ls? True\n"
          ]
        }
      ]
    },
    {
      "cell_type": "markdown",
      "source": [],
      "metadata": {
        "id": "-wiMNieykJJC"
      }
    },
    {
      "cell_type": "markdown",
      "source": [
        "**Operator Identitas**\n",
        "\n",
        "* is\tmenghasilkan nilai TRUE jika kedua nilai memiliki identitas yang sama.\n",
        "* not is\tmenghasilkan nilai FALSE jika kedua nilai memiliki identitas yang sama.\n"
      ],
      "metadata": {
        "id": "Gbz18czokLh_"
      }
    },
    {
      "cell_type": "code",
      "source": [
        "a = 41\n",
        "\n",
        "x = a is 41\n",
        "\n",
        "print(\"a adalah 41?? \", x)"
      ],
      "metadata": {
        "colab": {
          "base_uri": "https://localhost:8080/"
        },
        "id": "PQKv1om5kRzB",
        "outputId": "736617de-fcfc-4218-8a0a-06a1b66375c4"
      },
      "execution_count": null,
      "outputs": [
        {
          "output_type": "stream",
          "name": "stdout",
          "text": [
            "a adalah 41??  True\n"
          ]
        }
      ]
    },
    {
      "cell_type": "markdown",
      "source": [
        "**Operator Bitwise**\n",
        "\n",
        "* ' &\t' and\n",
        "* ' |\t' or\n",
        "* ' ^\t' xor\n",
        "* ' ~\t' not\n",
        "* ' <<\t' left shift\n",
        "* ' >>\t' right shift\n",
        "\n",
        "\n",
        "referensi : https://realpython.com/python-bitwise-operators/\n"
      ],
      "metadata": {
        "id": "C9OIQs_yk_sk"
      }
    },
    {
      "cell_type": "code",
      "source": [
        "a = 5   #   101\n",
        "b = 22  # 10110\n",
        "        #   100\n",
        "        # digit ke-1 nilai bit dari '5' dan digit ke-3 nilai bit dari '22' sama sama bernilai 1 shg\n",
        "x =  a & b # 100 dlm desimal: 4\n",
        "print(x)"
      ],
      "metadata": {
        "colab": {
          "base_uri": "https://localhost:8080/"
        },
        "id": "rUs1Hy5IlbaM",
        "outputId": "21ca5c5d-283b-4897-845e-7eeb336d14de"
      },
      "execution_count": null,
      "outputs": [
        {
          "output_type": "stream",
          "name": "stdout",
          "text": [
            "4\n"
          ]
        }
      ]
    },
    {
      "cell_type": "code",
      "source": [
        "a = 10  # 1010\n",
        "x = a<<3  # shift left 3x\n",
        "          # 1010000 : dlm desimal = 80\n",
        "print(x)"
      ],
      "metadata": {
        "colab": {
          "base_uri": "https://localhost:8080/"
        },
        "id": "jWzNE2e1nrb-",
        "outputId": "5d3ce454-7a01-45e6-8c18-75ae6982b02a"
      },
      "execution_count": null,
      "outputs": [
        {
          "output_type": "stream",
          "name": "stdout",
          "text": [
            "80\n"
          ]
        }
      ]
    },
    {
      "cell_type": "markdown",
      "source": [
        "**Operator Precedence**\n",
        "\n",
        "Operator Precedence adalah operator yang membarikan lebih dari satu penugasan dalam satu statement.\n"
      ],
      "metadata": {
        "id": "grnyasNSoHK0"
      }
    },
    {
      "cell_type": "code",
      "source": [
        "a,b,c = 1,2,3\n",
        "\n",
        "print('a:', a, '\\nb:',b, '\\nc:',c)  # \\n = baris baru"
      ],
      "metadata": {
        "colab": {
          "base_uri": "https://localhost:8080/"
        },
        "id": "DOPUwEFhoGfG",
        "outputId": "8c5ac533-f30f-4160-befc-0f9b13dd5f60"
      },
      "execution_count": null,
      "outputs": [
        {
          "output_type": "stream",
          "name": "stdout",
          "text": [
            "a: 1 \n",
            "b: 2 \n",
            "c: 3\n"
          ]
        }
      ]
    },
    {
      "cell_type": "markdown",
      "source": [
        "**Operator Associativity**\n",
        "\n",
        "Operator Associativity adalah operator dalam python yang dapat menggabungkan lebih dari satu operator aritmatika.\n"
      ],
      "metadata": {
        "id": "Hn6rJ17goZRC"
      }
    },
    {
      "cell_type": "code",
      "source": [
        "x = (205-100) / 5**2 *5  # (105) / 25 * 5\n",
        "print(x)"
      ],
      "metadata": {
        "colab": {
          "base_uri": "https://localhost:8080/"
        },
        "id": "3DraxhVJoo8H",
        "outputId": "f825125c-f250-4e56-cba9-c613c94e101a"
      },
      "execution_count": null,
      "outputs": [
        {
          "output_type": "stream",
          "name": "stdout",
          "text": [
            "21.0\n"
          ]
        }
      ]
    },
    {
      "cell_type": "markdown",
      "source": [
        "# **G.\tStatements**\n",
        "Statement adalah pernyataan atau instruksi yang diberikan untuk dieksekusi oleh mesin."
      ],
      "metadata": {
        "id": "HnnOSXslR4BI"
      }
    },
    {
      "cell_type": "code",
      "source": [
        "a = 12 # adalah statement\\\n",
        "a = a + 12 # adalah statement\n",
        "b = '24'\n",
        "if a != b:                      #\n",
        "  print('a dan b tidak sama')   # dua baris ini dianggap satu statement"
      ],
      "metadata": {
        "colab": {
          "base_uri": "https://localhost:8080/"
        },
        "id": "BRkmy11NSE1A",
        "outputId": "dfef4136-0593-439f-89e0-65b6229f4168"
      },
      "execution_count": null,
      "outputs": [
        {
          "output_type": "stream",
          "name": "stdout",
          "text": [
            "a dan b tidak sama\n"
          ]
        }
      ]
    },
    {
      "cell_type": "markdown",
      "source": [
        "# **H. Expression**\n",
        "Expressions adalah kombinasi dari operator yang diinterpretasikan untuk menghasilkan beberapa nilai lain."
      ],
      "metadata": {
        "id": "PZTo5ZH1TFN7"
      }
    },
    {
      "cell_type": "markdown",
      "source": [
        "**Constant Expression**\n",
        "\n",
        "Constant Expressions adalah ekspresi yang hanya memiliki nilai konstan.\n",
        "\n"
      ],
      "metadata": {
        "id": "ML75BJP6S_7q"
      }
    },
    {
      "cell_type": "code",
      "source": [
        "PHI = 3.14\n",
        "GRAVITY = 9.8\n",
        "jumlah = 14\n",
        "_alamat = \"jl.pisang\"\n",
        "\n",
        "print(PHI, GRAVITY, jumlah, _alamat)"
      ],
      "metadata": {
        "id": "hTCVSYm4S0uh"
      },
      "execution_count": null,
      "outputs": []
    },
    {
      "cell_type": "markdown",
      "source": [
        "**Arithmetic Expressions**\n",
        "\n",
        "Ekspresi aritmatika adalah kombinasi dari nilai numerik, operator, dan terkadang tanda kurung"
      ],
      "metadata": {
        "id": "gSc4MDxITnXN"
      }
    },
    {
      "cell_type": "code",
      "source": [
        "a = 2*(12+6)\n",
        "b = 5**2\n",
        "\n",
        "print(a,b)"
      ],
      "metadata": {
        "colab": {
          "base_uri": "https://localhost:8080/"
        },
        "id": "PW2iqEVbTv60",
        "outputId": "c2ea15c3-e71e-4520-b641-83db151b69eb"
      },
      "execution_count": null,
      "outputs": [
        {
          "output_type": "stream",
          "name": "stdout",
          "text": [
            "36 25\n"
          ]
        }
      ]
    },
    {
      "cell_type": "markdown",
      "source": [
        "**Integer Expressions**\n",
        "\n",
        "ekspresi bilangan bulat adalah jenis ekspresi yang hanya menghasilkan hasil bilangan bulat setelah semua perhitungan dan konversi tipe datanya."
      ],
      "metadata": {
        "id": "KCOWPNe-U7tO"
      }
    },
    {
      "cell_type": "code",
      "source": [
        "x = 120\n",
        "y = 1\n",
        "z = int(10.123)\n",
        "\n",
        "print(x,y,z)"
      ],
      "metadata": {
        "colab": {
          "base_uri": "https://localhost:8080/"
        },
        "id": "V2Dt0w9AUy_i",
        "outputId": "f95c12e8-a190-4e86-f177-5277e1b1374f"
      },
      "execution_count": null,
      "outputs": [
        {
          "output_type": "stream",
          "name": "stdout",
          "text": [
            "120 1 10\n"
          ]
        }
      ]
    },
    {
      "cell_type": "markdown",
      "source": [
        "**Floating Expressions**\n",
        "\n",
        "Ekspresi bilangan desimal adalah jenis ekspresi yang menghasilkan angka floating point sebagai hasil setelah semua perhitungan dan konversi tipe datanya.\n"
      ],
      "metadata": {
        "id": "z29l-TYFVfr3"
      }
    },
    {
      "cell_type": "code",
      "source": [
        "x = 3/2\n",
        "y = 2.17\n",
        "z = float(\"2.71828\")\n",
        "\n",
        "print(\" x:\",x, \"\\n y:\",y, \"\\n z:\",z) # \\n digunakan untuk mencetak output di baris baru"
      ],
      "metadata": {
        "colab": {
          "base_uri": "https://localhost:8080/"
        },
        "id": "aEafVgbyVlsz",
        "outputId": "6e962c25-d344-4e61-c207-438e7b104082"
      },
      "execution_count": null,
      "outputs": [
        {
          "output_type": "stream",
          "name": "stdout",
          "text": [
            " x: 1.5 \n",
            " y: 2.17 \n",
            " z: 2.71828\n"
          ]
        }
      ]
    },
    {
      "cell_type": "markdown",
      "source": [
        "**Relational Expressions**\n",
        "\n",
        "Ekspresi relasi ditulis di kedua sisi operator relasional (>, < , >= , <=)."
      ],
      "metadata": {
        "id": "1_rNs6OLYrTm"
      }
    },
    {
      "cell_type": "code",
      "source": [
        "a =  (100+2) > (90+10) # True\n",
        "b =  (22/2) <= (2*5) # False\n",
        "c =  (2+2) == (2*2) # True\n",
        "\n",
        "print('a :', a, 'b:', b,'c :', c)"
      ],
      "metadata": {
        "colab": {
          "base_uri": "https://localhost:8080/"
        },
        "id": "XHYqcMLNYz9E",
        "outputId": "23f81a96-d740-4cc8-f3f5-fe5f3017af72"
      },
      "execution_count": null,
      "outputs": [
        {
          "output_type": "stream",
          "name": "stdout",
          "text": [
            "a : True b: False c : True\n"
          ]
        }
      ]
    },
    {
      "cell_type": "markdown",
      "source": [
        "**Logical Expressions**\n",
        "\n",
        "Ekspresi logika adalah jenis ekspresi yang menghasilkan True atau False. Ini pada dasarnya menentukan satu atau lebih kondisi\n"
      ],
      "metadata": {
        "id": "eZwCWHM2p2D3"
      }
    },
    {
      "cell_type": "code",
      "source": [
        "a = 10 == 9 # False\n",
        "b = 132 > 100 # True\n",
        "\n",
        "print('a :', a, 'b:', b)"
      ],
      "metadata": {
        "colab": {
          "base_uri": "https://localhost:8080/"
        },
        "id": "fLshdAoEqoZW",
        "outputId": "0587f159-58cc-4f3e-d3a0-a1cadbd5ef28"
      },
      "execution_count": null,
      "outputs": [
        {
          "output_type": "stream",
          "name": "stdout",
          "text": [
            "a : False b: True\n"
          ]
        }
      ]
    },
    {
      "cell_type": "markdown",
      "source": [
        "**Bitwise Expressions**\n",
        "\n",
        "Ekspresi bitwise adalah jenis ekspresi dimana perhitungan dilakukan pada tingkat bit.\n"
      ],
      "metadata": {
        "id": "NwTG0eK8rF0S"
      }
    },
    {
      "cell_type": "code",
      "source": [
        "a = 5 & 22 #  4\n",
        "b = 5 | 22 # 23\n",
        "c = 102 << 4 # 1632\n",
        "d = ~400 # -401\n",
        "\n",
        "print('a :', a, 'b:', b, 'c :', c, 'd:', d)"
      ],
      "metadata": {
        "colab": {
          "base_uri": "https://localhost:8080/"
        },
        "id": "rygsMTl1rLg7",
        "outputId": "a5053d76-a377-4a86-ea93-51f57ed84e33"
      },
      "execution_count": null,
      "outputs": [
        {
          "output_type": "stream",
          "name": "stdout",
          "text": [
            "a : 4 b: 23 c : 1632 d: -401\n"
          ]
        }
      ]
    },
    {
      "cell_type": "markdown",
      "source": [
        "**Combinational Expressions**\n",
        "\n",
        "Ekspresi kombinasi adalah jenis ekspresi dengan menggabungkan berbagai ekspresi kemudain menjadikan satu ekspresi.\n"
      ],
      "metadata": {
        "id": "MiKBEPPIr7ZE"
      }
    },
    {
      "cell_type": "code",
      "source": [
        "x = (200 + 3) - (6 << 1) # 191\n",
        "y = (200 & 160) / 4  # 32\n",
        "\n",
        "print('x :', x, 'y:', y)"
      ],
      "metadata": {
        "colab": {
          "base_uri": "https://localhost:8080/"
        },
        "id": "aOnRyDFEr6ZD",
        "outputId": "982d6ea9-7e5d-4d5d-972e-6d0851a4bdbf"
      },
      "execution_count": null,
      "outputs": [
        {
          "output_type": "stream",
          "name": "stdout",
          "text": [
            "x : 191 y: 32.0\n"
          ]
        }
      ]
    },
    {
      "cell_type": "markdown",
      "source": [
        "# **I. Konversi/Casting Tipe Data**"
      ],
      "metadata": {
        "id": "RzkKyc0Xx24D"
      }
    },
    {
      "cell_type": "code",
      "source": [
        "a = '10' # string\n",
        "print(type(a), a)"
      ],
      "metadata": {
        "colab": {
          "base_uri": "https://localhost:8080/"
        },
        "id": "yE3IYCQYxz47",
        "outputId": "e0e834f7-90be-4638-b91d-8e5fc46a77a3"
      },
      "execution_count": null,
      "outputs": [
        {
          "output_type": "stream",
          "name": "stdout",
          "text": [
            "<class 'str'> 10\n"
          ]
        }
      ]
    },
    {
      "cell_type": "code",
      "source": [
        "a = '10' # string\n",
        "b = int(a) # string ke int\n",
        "\n",
        "print(type(b), b)"
      ],
      "metadata": {
        "colab": {
          "base_uri": "https://localhost:8080/"
        },
        "id": "cU_8kZZIyDYt",
        "outputId": "0359f1ea-6eb1-44de-bf1e-39db7129eb48"
      },
      "execution_count": null,
      "outputs": [
        {
          "output_type": "stream",
          "name": "stdout",
          "text": [
            "<class 'int'> 10\n"
          ]
        }
      ]
    },
    {
      "cell_type": "code",
      "source": [
        "a = '10.45' # string\n",
        "b = float(a) # string ke float\n",
        "print(type(b), b)"
      ],
      "metadata": {
        "colab": {
          "base_uri": "https://localhost:8080/"
        },
        "id": "0kQnTddryQ2-",
        "outputId": "90f0b264-e1d7-4d61-bc14-8da5bb17c001"
      },
      "execution_count": null,
      "outputs": [
        {
          "output_type": "stream",
          "name": "stdout",
          "text": [
            "<class 'float'> 10.45\n"
          ]
        }
      ]
    },
    {
      "cell_type": "markdown",
      "source": [
        "# **J. User Input**\n",
        "\n",
        "menerima data langsung dari input keyboard saat program dijalankan dengan tipe default 'string'\n"
      ],
      "metadata": {
        "id": "-kzAUxYWwiIJ"
      }
    },
    {
      "cell_type": "code",
      "source": [
        "nama = input(\"Siapa namamu? \")\n",
        "print(\"hallo\", nama, \"apa kabar?\")"
      ],
      "metadata": {
        "colab": {
          "base_uri": "https://localhost:8080/"
        },
        "id": "itXEpUcHwvSl",
        "outputId": "610d2292-9bb8-4ce4-fad9-65711c917e57"
      },
      "execution_count": null,
      "outputs": [
        {
          "output_type": "stream",
          "name": "stdout",
          "text": [
            "Siapa namamu? Ichsan\n",
            "hallo Ichsan apa kabar?\n"
          ]
        }
      ]
    },
    {
      "cell_type": "code",
      "source": [
        "#program hitung keliling persegi\n",
        "sisi = int(input(\"Masukkan panjang sisi? \")) # input bertipe string, harus dikonversi ke int\n",
        "                                             #  agar dapat dioperasikan menggunakan operasi artematik\n",
        "hasil = 4*sisi\n",
        "print(\"keliling persegi: \", hasil)"
      ],
      "metadata": {
        "colab": {
          "base_uri": "https://localhost:8080/"
        },
        "id": "vItZ4uOSxFHh",
        "outputId": "d07fb1d0-181d-4a7f-c885-fa039d9fd8c4"
      },
      "execution_count": null,
      "outputs": [
        {
          "output_type": "stream",
          "name": "stdout",
          "text": [
            "Masukkan panjang sisi? 12\n",
            "keliling persegi:  48\n"
          ]
        }
      ]
    },
    {
      "cell_type": "markdown",
      "source": [
        "# Tantangan\n",
        "Selesaikan persoalan berikut menggunakan bahasa pemrograman python"
      ],
      "metadata": {
        "id": "fw68LcoeGb-J"
      }
    },
    {
      "cell_type": "markdown",
      "source": [
        "#### Soal 1\n",
        "> Buatlah kode yang dapat menghitung luas segitiga jika diketahui rumus luas segitiga adalah 1/2 alas * tinggi"
      ],
      "metadata": {
        "id": "Xx-GKtyFHgg_"
      }
    },
    {
      "cell_type": "code",
      "source": [
        "# TODO : Selesaikan...\n",
        "alas = float(input(\"alas segitiga: \"))\n",
        "tinggi = float(input(\"tinggi segitiga: \"))\n",
        "\n",
        "luas = 0.5*alas*tinggi\n",
        "\n",
        "print(\"luas persegi panjang : \", luas)"
      ],
      "metadata": {
        "id": "ze_X4u93H0km"
      },
      "execution_count": null,
      "outputs": []
    },
    {
      "cell_type": "markdown",
      "source": [
        "#### Soal 2\n",
        "> Buatlah sebuah kode yang dapat menghitung luas persegi panjang, jika diketahui rumus persegi panjang adalah panjang x lebar"
      ],
      "metadata": {
        "id": "5ZDqJQJWGvnN"
      }
    },
    {
      "cell_type": "code",
      "source": [
        "# TODO : Selesaikan..."
      ],
      "metadata": {
        "id": "nsVEKdv8HCC5"
      },
      "execution_count": null,
      "outputs": []
    },
    {
      "cell_type": "markdown",
      "source": [
        "#### Soal 3\n",
        "Buatlah kode yang dapat menghitung nilai rata-rata siswa berikut\n",
        "\n",
        "| Pelajaran        | Nilai |\n",
        "|------------------|-------|\n",
        "| Bahasa indonesia | 90    |\n",
        "| Kewarganegaraan  | 87.2  |\n",
        "| Agama            | 91.8  |\n",
        "| IPA              | 72.5  |"
      ],
      "metadata": {
        "id": "NdHlx7tRITwm"
      }
    },
    {
      "cell_type": "code",
      "source": [
        "# TODO : Selesaikan...\n",
        "\n",
        "a = {1,2,3,4}\n",
        "b = {2,3}\n",
        "\n",
        "print (a.symmetric_difference(b))"
      ],
      "metadata": {
        "colab": {
          "base_uri": "https://localhost:8080/"
        },
        "id": "caRqeHStJIbf",
        "outputId": "527a0956-2209-4d1f-c889-076e87450901"
      },
      "execution_count": null,
      "outputs": [
        {
          "output_type": "stream",
          "name": "stdout",
          "text": [
            "{1, 4}\n"
          ]
        }
      ]
    },
    {
      "cell_type": "markdown",
      "source": [
        "# **Referensi Belajar Python:**\n",
        "\n",
        "YOUTUBE :\n",
        "* IDN https://www.youtube.com/playlist?list=PLZS-MHyEIRo59lUBwU-XHH7Ymmb04ffOY\n",
        "* IDN https://www.youtube.com/playlist?list=PL-CtdCApEFH_HY6bL3JER8WJOxz1nb3_H\n",
        "* ENG https://www.youtube.com/watch?v=_uQrJ0TkZlc&t=1028s\n",
        "* ENG https://www.youtube.com/watch?v=rfscVS0vtbw&t=938s\n",
        "\n",
        "WEBSITE :\n",
        "* IDN https://www.petanikode.com/tutorial/python/\n",
        "* ENG https://www.w3schools.com/python/\n",
        "* ENG https://www.programiz.com/python-programming\n"
      ],
      "metadata": {
        "id": "7SbtmeJV6YGq"
      }
    },
    {
      "cell_type": "markdown",
      "metadata": {
        "id": "NZRJIeT4VXed"
      },
      "source": [
        "# Author(s)\n"
      ]
    },
    {
      "cell_type": "markdown",
      "metadata": {
        "id": "sT0uMrvAVXed"
      },
      "source": [
        "**Ichsan Takwa** adalah seorang mentor program Advanced AI di Infinite Learning yang berfokus pada pengembangan talenta di bidang kecerdasan buatan.Saat ini menempuh pendidikan di semester 8 Jurusan Sistem Informasi Universitas Hasanuddin."
      ]
    },
    {
      "cell_type": "markdown",
      "metadata": {
        "id": "xUqqplR5VXed"
      },
      "source": [
        "| Date (YYYY-MM-DD) | Version | Changed By  | Change Description |\n",
        "| ----------------- | ------- | ----------- | ------------------ |\n",
        "| 2022-09-09        | 0.1     | Ichsan Takwa| Created            |\n",
        "| 2024-03-13        | 0.2     | Ichsan Takwa| Exercise added     |\n"
      ]
    }
  ]
}